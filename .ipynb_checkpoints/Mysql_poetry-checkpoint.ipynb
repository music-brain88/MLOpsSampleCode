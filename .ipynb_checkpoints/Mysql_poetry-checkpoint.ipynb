{
 "cells": [
  {
   "cell_type": "code",
   "execution_count": 1,
   "metadata": {},
   "outputs": [
    {
     "name": "stdout",
     "output_type": "stream",
     "text": [
      "Using version \u001b[32m^8.0\u001b[0m for \u001b[32mmysql-connector-python\u001b[0m\n",
      "\n",
      "\u001b[32mUpdating dependencies\u001b[0m\n",
      "\u001b[2K\u001b[32mResolving dependencies\u001b[0m... \u001b[30;1m(61.9s)\u001b[0m\n",
      "\n",
      "\u001b[32mWriting lock file\u001b[0m\n",
      "\n",
      "\n",
      "Package operations: \u001b[32m2\u001b[0m installs, \u001b[32m0\u001b[0m updates, \u001b[32m0\u001b[0m removals\n",
      "\n",
      "  - Installing \u001b[32mwheel\u001b[0m (\u001b[36m0.33.6\u001b[0m)\n",
      "  - Installing \u001b[32mmysql-connector-python\u001b[0m (\u001b[36m8.0.18\u001b[0m)\n"
     ]
    }
   ],
   "source": [
    "!poetry add mysql-connector-python"
   ]
  },
  {
   "cell_type": "code",
   "execution_count": 1,
   "metadata": {},
   "outputs": [],
   "source": [
    "import requests\n",
    "import os \n",
    "from os.path import join,  dirname\n",
    "from dotenv import load_dotenv\n",
    "import mysql.connector"
   ]
  },
  {
   "cell_type": "code",
   "execution_count": 2,
   "metadata": {},
   "outputs": [],
   "source": [
    "DB_HOST = \"ai_mysql\" #os.environ.get(\"DB_HOST\")\n",
    "PORT = 3306 #os.environ.get(\"PORT\") \n",
    "DB_USER = \"research\" #os.environ.get(\"DB_USER\")\n",
    "DB_PASS = \"research\" #os.environ.get(\"DB_PASS\")\n",
    "TARGET_DB = \"ai_db\" #os.environ.get(\"TARGET_DB\")"
   ]
  },
  {
   "cell_type": "code",
   "execution_count": 3,
   "metadata": {},
   "outputs": [],
   "source": [
    "def connection():\n",
    "    return mysql.connector.connect(\n",
    "        host=DB_HOST,\n",
    "        port=PORT,\n",
    "        user=DB_USER,\n",
    "        password=DB_PASS,\n",
    "        database=TARGET_DB\n",
    "    )"
   ]
  },
  {
   "cell_type": "code",
   "execution_count": 4,
   "metadata": {},
   "outputs": [
    {
     "data": {
      "text/plain": [
       "True"
      ]
     },
     "execution_count": 4,
     "metadata": {},
     "output_type": "execute_result"
    }
   ],
   "source": [
    "conn = connection()\n",
    "conn.is_connected()"
   ]
  },
  {
   "cell_type": "code",
   "execution_count": 5,
   "metadata": {},
   "outputs": [],
   "source": [
    "cur = conn.cursor()"
   ]
  },
  {
   "cell_type": "code",
   "execution_count": 6,
   "metadata": {},
   "outputs": [],
   "source": [
    "cur.execute('Show tables')"
   ]
  },
  {
   "cell_type": "code",
   "execution_count": 8,
   "metadata": {},
   "outputs": [
    {
     "data": {
      "text/plain": [
       "[]"
      ]
     },
     "execution_count": 8,
     "metadata": {},
     "output_type": "execute_result"
    }
   ],
   "source": [
    "cur.fetchall()"
   ]
  },
  {
   "cell_type": "code",
   "execution_count": 9,
   "metadata": {},
   "outputs": [],
   "source": [
    "SQL = \"\"\"CREATE TABLE name_age_list(\n",
    "    id INT(11) AUTO_INCREMENT NOT NULL, \n",
    "    name VARCHAR(30) NOT NULL ,\n",
    "    age INT(3) NOT NULL,\n",
    "    PRIMARY KEY (id));\"\"\""
   ]
  },
  {
   "cell_type": "code",
   "execution_count": 10,
   "metadata": {},
   "outputs": [],
   "source": [
    "result = cur.execute(SQL)"
   ]
  },
  {
   "cell_type": "code",
   "execution_count": 13,
   "metadata": {},
   "outputs": [],
   "source": [
    "result"
   ]
  },
  {
   "cell_type": "code",
   "execution_count": 14,
   "metadata": {},
   "outputs": [],
   "source": [
    "cur.execute('Show tables')"
   ]
  },
  {
   "cell_type": "code",
   "execution_count": 15,
   "metadata": {},
   "outputs": [
    {
     "data": {
      "text/plain": [
       "[('name_age_list',)]"
      ]
     },
     "execution_count": 15,
     "metadata": {},
     "output_type": "execute_result"
    }
   ],
   "source": [
    "cur.fetchall()"
   ]
  },
  {
   "cell_type": "code",
   "execution_count": null,
   "metadata": {},
   "outputs": [],
   "source": [
    "cur.fetchall()"
   ]
  },
  {
   "cell_type": "code",
   "execution_count": 29,
   "metadata": {},
   "outputs": [
    {
     "data": {
      "text/plain": [
       "[]"
      ]
     },
     "execution_count": 29,
     "metadata": {},
     "output_type": "execute_result"
    }
   ],
   "source": []
  }
 ],
 "metadata": {
  "kernelspec": {
   "display_name": "Python 3",
   "language": "python",
   "name": "python3"
  },
  "language_info": {
   "codemirror_mode": {
    "name": "ipython",
    "version": 3
   },
   "file_extension": ".py",
   "mimetype": "text/x-python",
   "name": "python",
   "nbconvert_exporter": "python",
   "pygments_lexer": "ipython3",
   "version": "3.6.8"
  }
 },
 "nbformat": 4,
 "nbformat_minor": 2
}
